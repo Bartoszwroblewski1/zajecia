{
 "cells": [
  {
   "cell_type": "code",
   "execution_count": 30,
   "metadata": {},
   "outputs": [],
   "source": [
    "def revrot(wyraz,n):\n",
    "    gotowy_ciag = []\n",
    "    ostatni = 0\n",
    "    for _ in range((len(wyraz)//n)):\n",
    "        podciag = []\n",
    "        for i in range(ostatni,ostatni+n):\n",
    "            podciag.append(wyraz[i])\n",
    "        ostatni+=n\n",
    "        suma_szescianow = 0\n",
    "        for j in podciag:\n",
    "            suma_szescianow+=int(j)**3\n",
    "        if suma_szescianow%2==0:\n",
    "            podciag = podciag[::-1]\n",
    "        else:\n",
    "            for i in range(1,len(podciag)):\n",
    "                tmp = podciag[i-1]\n",
    "                podciag[i-1] = podciag[i]\n",
    "                podciag[i] = tmp\n",
    "        gotowy_ciag.append(''.join(podciag))\n",
    "    return ''.join(gotowy_ciag)\n",
    "\n",
    "        "
   ]
  },
  {
   "cell_type": "code",
   "execution_count": 33,
   "metadata": {},
   "outputs": [
    {
     "name": "stdout",
     "output_type": "stream",
     "text": [
      "234561876549\n"
     ]
    }
   ],
   "source": [
    "print(revrot(\"123456987654\", 6))"
   ]
  }
 ],
 "metadata": {
  "interpreter": {
   "hash": "b7f78a45f1356f2cb6b4d5083fb162f2019f76de2ca89e8acf7bb34edf42ec6a"
  },
  "kernelspec": {
   "display_name": "Python 3.9.10 64-bit (windows store)",
   "language": "python",
   "name": "python3"
  },
  "language_info": {
   "codemirror_mode": {
    "name": "ipython",
    "version": 3
   },
   "file_extension": ".py",
   "mimetype": "text/x-python",
   "name": "python",
   "nbconvert_exporter": "python",
   "pygments_lexer": "ipython3",
   "version": "3.9.10"
  },
  "orig_nbformat": 4
 },
 "nbformat": 4,
 "nbformat_minor": 2
}
