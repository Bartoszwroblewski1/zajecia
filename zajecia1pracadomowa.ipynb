{
 "cells": [
  {
   "cell_type": "code",
   "execution_count": null,
   "metadata": {},
   "outputs": [],
   "source": [
    "def prime(n):\n",
    "    liczbadzielnikow = 0\n",
    "    for i in range(1,n+1):\n",
    "        if n%i == 0:\n",
    "            liczbadzielnikow+1\n",
    "    if liczbadzielnikow!=2:\n",
    "        return False\n",
    "    else:\n",
    "        return True\n"
   ]
  }
 ],
 "metadata": {
  "language_info": {
   "name": "python"
  },
  "orig_nbformat": 4
 },
 "nbformat": 4,
 "nbformat_minor": 2
}
