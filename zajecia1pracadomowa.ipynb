{
 "cells": [
  {
   "cell_type": "code",
   "execution_count": 69,
   "metadata": {},
   "outputs": [],
   "source": [
    "def prime(n):\n",
    "    liczbadzielnikow = 0\n",
    "    for i in range(1,n+1):\n",
    "        if n%i == 0:\n",
    "            liczbadzielnikow+=1\n",
    "        if liczbadzielnikow==3:\n",
    "            break\n",
    "    if liczbadzielnikow==2:\n",
    "        return True\n",
    "    else:\n",
    "        return False\n"
   ]
  },
  {
   "cell_type": "code",
   "execution_count": 80,
   "metadata": {},
   "outputs": [
    {
     "data": {
      "text/plain": [
       "True"
      ]
     },
     "execution_count": 80,
     "metadata": {},
     "output_type": "execute_result"
    }
   ],
   "source": [
    "prime(2)"
   ]
  },
  {
   "cell_type": "code",
   "execution_count": 95,
   "metadata": {},
   "outputs": [],
   "source": [
    "def twins(*nk):\n",
    "    if len(nk)==2:\n",
    "        n,k = nk\n",
    "        if prime(n):\n",
    "            if max(n,k)-min(n,k)==2:\n",
    "                return True\n",
    "            else:\n",
    "                return False\n",
    "        else:\n",
    "            return False\n",
    "    else:\n",
    "        n = nk[0]\n",
    "        for i in range(1,n+1):\n",
    "            if max(n,i)-min(n,i) == 2:\n",
    "                return i\n",
    "                break"
   ]
  },
  {
   "cell_type": "code",
   "execution_count": 96,
   "metadata": {},
   "outputs": [
    {
     "data": {
      "text/plain": [
       "5"
      ]
     },
     "execution_count": 96,
     "metadata": {},
     "output_type": "execute_result"
    }
   ],
   "source": [
    "twins(7)"
   ]
  }
 ],
 "metadata": {
  "interpreter": {
   "hash": "b7f78a45f1356f2cb6b4d5083fb162f2019f76de2ca89e8acf7bb34edf42ec6a"
  },
  "kernelspec": {
   "display_name": "Python 3.9.10 64-bit (windows store)",
   "language": "python",
   "name": "python3"
  },
  "language_info": {
   "codemirror_mode": {
    "name": "ipython",
    "version": 3
   },
   "file_extension": ".py",
   "mimetype": "text/x-python",
   "name": "python",
   "nbconvert_exporter": "python",
   "pygments_lexer": "ipython3",
   "version": "3.9.10"
  },
  "orig_nbformat": 4
 },
 "nbformat": 4,
 "nbformat_minor": 2
}
